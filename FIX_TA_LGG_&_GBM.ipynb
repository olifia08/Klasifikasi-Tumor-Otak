{
 "cells": [
  {
   "cell_type": "markdown",
   "metadata": {
    "id": "fM2GFMXW1krh"
   },
   "source": [
    "# Klasifikasi pasien dengan penyakit Giloma (Tumor Otak) LGG (Glioma Tingkat Rendah) atau GBM (Glioblastoma Multiforme)\n"
   ]
  },
  {
   "cell_type": "code",
   "execution_count": null,
   "metadata": {
    "id": "75ZtoR041uvM"
   },
   "outputs": [],
   "source": [
    "import pandas as pd\n",
    "from sklearn.neighbors import LocalOutlierFactor\n",
    "import sklearn.model_selection as ms\n",
    "from sklearn.linear_model import LogisticRegression\n",
    "from sklearn.metrics import accuracy_score, confusion_matrix, classification_report\n",
    "import sklearn.linear_model as lm\n",
    "import matplotlib.pyplot as plt\n",
    "import seaborn as sns\n",
    "import numpy as np\n",
    "# model knn\n",
    "from sklearn.neighbors import KNeighborsClassifier\n",
    "from sklearn.metrics import confusion_matrix, classification_report, accuracy_score\n",
    "# model random forest\n",
    "from sklearn.ensemble import RandomForestClassifier\n",
    "\n",
    "\n"
   ]
  },
  {
   "cell_type": "code",
   "execution_count": null,
   "metadata": {
    "colab": {
     "base_uri": "https://localhost:8080/"
    },
    "id": "BoO3gcXK2Re6",
    "outputId": "9c430470-0c22-4f9e-e118-1099fe803eac"
   },
   "outputs": [],
   "source": [
    "cgga_df=pd.read_csv(\"TCGA_InfoWithGrade.csv\")\n",
    "cgga_df.info()"
   ]
  },
  {
   "cell_type": "code",
   "execution_count": null,
   "metadata": {
    "colab": {
     "base_uri": "https://localhost:8080/",
     "height": 393
    },
    "id": "hbF9Tq3XDJh4",
    "outputId": "3e462bd5-af0d-4e06-d8a8-732dbfed5292"
   },
   "outputs": [],
   "source": [
    "cgga_df.sample(n=10)"
   ]
  },
  {
   "cell_type": "markdown",
   "metadata": {
    "id": "4NdAKbch1oG-"
   },
   "source": [
    "## Preprocesing"
   ]
  },
  {
   "cell_type": "code",
   "execution_count": null,
   "metadata": {
    "colab": {
     "base_uri": "https://localhost:8080/",
     "height": 837
    },
    "collapsed": true,
    "id": "QxJ9Wz0CyVwB",
    "outputId": "4096b24d-c4ee-40fe-e41a-a7f7fc9c5fef"
   },
   "outputs": [],
   "source": [
    "cgga_df.isna().sum()"
   ]
  },
  {
   "cell_type": "code",
   "execution_count": null,
   "metadata": {
    "colab": {
     "base_uri": "https://localhost:8080/",
     "height": 441
    },
    "id": "0AgbWqlv173g",
    "outputId": "9b68d1ae-cfd7-462c-fd4a-c1a152975ecb"
   },
   "outputs": [],
   "source": [
    "def min_max_normalize(column):\n",
    "    return (column - column.min()) / (column.max() - column.min())\n",
    "\n",
    "normalisasi = cgga_df.copy()\n",
    "\n",
    "normalisasi['Age_at_diagnosis'] = min_max_normalize(cgga_df['Age_at_diagnosis'])\n",
    "\n",
    "print(\"Data setelah normalisasi :\")\n",
    "normalisasi\n"
   ]
  },
  {
   "cell_type": "code",
   "execution_count": null,
   "metadata": {
    "colab": {
     "base_uri": "https://localhost:8080/",
     "height": 424
    },
    "id": "QMENWhcX39NK",
    "outputId": "f545054c-3a88-4426-89f6-b70d51cfa7ae"
   },
   "outputs": [],
   "source": [
    "x = normalisasi.drop('Grade', axis=1)\n",
    "numerical_features = x.select_dtypes(include=['int64', 'float64'])\n",
    "categorical_features = x.select_dtypes(include=['object'])\n",
    "lof = LocalOutlierFactor(n_neighbors=10, contamination=0.15)\n",
    "\n",
    "y_outlier = lof.fit_predict(normalisasi)\n",
    "\n",
    "anomaly_scores = lof.negative_outlier_factor_\n",
    "\n",
    "normalisasi['LOF_Prediksi'] = y_outlier\n",
    "normalisasi['LOF_Skor_Anomali'] = anomaly_scores\n",
    "data_bersih = normalisasi[normalisasi['LOF_Prediksi'] != -1]\n",
    "data_bersih = data_bersih.drop(['LOF_Prediksi', 'LOF_Skor_Anomali'], axis=1)\n",
    "\n",
    "data_bersih\n"
   ]
  },
  {
   "cell_type": "markdown",
   "metadata": {
    "id": "heOFqiReCEDR"
   },
   "source": [
    "## Split Data"
   ]
  },
  {
   "cell_type": "code",
   "execution_count": null,
   "metadata": {
    "colab": {
     "base_uri": "https://localhost:8080/",
     "height": 1000
    },
    "id": "9u1PO71NCJRt",
    "outputId": "0f568a54-7266-41a6-f4db-62b8e6885435"
   },
   "outputs": [],
   "source": [
    "X= data_bersih[['Age_at_diagnosis', 'Gender', 'Race','IDH1','TP53','ATRX','PTEN','EGFR',\n",
    "                'CIC','MUC16','PIK3CA','NF1','PIK3R1','FUBP1','RB1','NOTCH1','BCOR','CSMD3',\n",
    "                'SMARCA4','GRIN2A','IDH2','FAT4','PDGFRA']]\n",
    "y= data_bersih.Grade\n",
    "X_train, X_test, y_train, y_test = ms.train_test_split(X, y, test_size=0.20, random_state=0)\n",
    "\n",
    "display(\"Data Train X\", X_train)\n",
    "display(\"Data Train y\", y_train.to_frame())\n",
    "display(\"Data Test X\", X_test)\n",
    "display(\"Data test y\", y_test.to_frame())\n"
   ]
  },
  {
   "cell_type": "markdown",
   "metadata": {
    "id": "JUOb8ZlSS5eb"
   },
   "source": [
    "### Modelling logistik regression epoch 50"
   ]
  },
  {
   "cell_type": "code",
   "execution_count": null,
   "metadata": {
    "id": "ezX65h0SS5ec"
   },
   "outputs": [],
   "source": [
    "def sigmoid(z):\n",
    "    return 1 / (1 + np.exp(-z))\n",
    "\n",
    "def predict(X, weights):\n",
    "    return sigmoid(np.dot(X, weights))\n",
    "\n",
    "def predict_labels(X, weights, threshold=0.5):\n",
    "    probabilities = predict(X, weights)\n",
    "    return (probabilities >= threshold).astype(int)\n",
    "\n",
    "def update_weights(X, y, weights, learning_rate):\n",
    "    for i in range(len(y)):\n",
    "        X_i = X[i].reshape(-1)\n",
    "        y_pred = predict(X_i, weights)\n",
    "        error = y_pred - y[i]\n",
    "        weights -= learning_rate * error * X_i\n",
    "    return weights\n",
    "\n",
    "def logistic_regression_sgd(X, y, learning_rate, epochs):\n",
    "    np.random.seed(42)\n",
    "    weights = np.random.rand(X.shape[1]) * 0.01\n",
    "\n",
    "    for epoch in range(epochs):\n",
    "        weights = update_weights(X, y, weights, learning_rate)\n",
    "        accuracy = calculate_accuracy(X, y, weights)\n",
    "        # print(f\"Epoch {epoch + 1}/{epochs}, Accuracy: {accuracy * 100:.2f}%, Weights: {weights}\")\n",
    "\n",
    "    return weights\n",
    "\n",
    "def calculate_accuracy(X, y, weights):\n",
    "    y_pred = predict_labels(X, weights)\n",
    "    accuracy = np.mean(y_pred == y)\n",
    "    return accuracy\n",
    "\n",
    "X_train = np.c_[np.ones((X_train.shape[0], 1)), X_train]\n",
    "X_test = np.c_[np.ones((X_test.shape[0], 1)), X_test]\n",
    "y_train = np.ravel(np.array(y_train))\n",
    "y_test = np.ravel(np.array(y_test))\n",
    "\n",
    "learning_rate50 = 0.01\n",
    "epochs50 = 50\n",
    "weights = logistic_regression_sgd(X_train, y_train, learning_rate50, epochs50)"
   ]
  },
  {
   "cell_type": "code",
   "execution_count": null,
   "metadata": {
    "colab": {
     "base_uri": "https://localhost:8080/",
     "height": 1000
    },
    "id": "CVfY5_AtS5ed",
    "outputId": "4ddb4491-6e2c-49a7-81ef-32d9d1c1cd5e"
   },
   "outputs": [],
   "source": [
    "y_pred_test = predict_labels(X_test, weights)\n",
    "conf_matrix = confusion_matrix(y_test, y_pred_test)\n",
    "\n",
    "\n",
    "train_accuracy50 = calculate_accuracy(X_train, y_train, weights)\n",
    "\n",
    "label_mapping = {0: \"LGG\", 1: \"GBM\"}\n",
    "y_test_mapped = pd.Series(y_test).map(label_mapping)\n",
    "y_pred_test_mapped = pd.Series(y_pred_test).map(label_mapping)\n",
    "\n",
    "plt.figure(figsize=(8, 6))\n",
    "sns.heatmap(conf_matrix, annot=True, fmt='d', cmap='Blues', xticklabels=['LGG', 'GBM'], yticklabels=['LGG', 'GBM'])\n",
    "plt.xlabel('Predicted Labels')\n",
    "plt.ylabel('True Labels')\n",
    "plt.title('Confusion Matrix')\n",
    "plt.show()\n",
    "\n",
    "report = classification_report(y_test, y_pred_test, target_names=['LGG', 'GBM'], output_dict=True)\n",
    "classification_df = pd.DataFrame(report).transpose()\n",
    "print(\"\\nClassification Report:\")\n",
    "display(classification_df)  # Menampilkan classification report dalam bentuk tabel\n",
    "\n",
    "# Akurasi model pada data training\n",
    "print(\"\\nAkurasi model pada data training:\")\n",
    "print(f\"{train_accuracy50 * 100:.2f}%\")\n",
    "\n",
    "# Menampilkan 10 sampel data klasifikasi dalam tabel\n",
    "print(\"\\n10 Sampel Data Klasifikasi:\")\n",
    "classification_results = pd.DataFrame({\n",
    "    'True Label': y_test_mapped,\n",
    "    'Predicted Label': y_pred_test_mapped\n",
    "})\n",
    "\n",
    "# Ambil 10 data secara acak dan tampilkan sebagai tabel\n",
    "sample_results = classification_results.sample(10)\n",
    "display(sample_results)  # Menampilkan tabel hasil 10 sampel\n"
   ]
  },
  {
   "cell_type": "markdown",
   "metadata": {
    "id": "LJd62SkjK62Q"
   },
   "source": [
    "## Modelling Random Forest"
   ]
  },
  {
   "cell_type": "code",
   "execution_count": null,
   "metadata": {
    "colab": {
     "base_uri": "https://localhost:8080/",
     "height": 1000
    },
    "id": "tT-M4dcaPK03",
    "outputId": "64759c73-c0ba-472d-f4ca-9dd9f5f521cd"
   },
   "outputs": [],
   "source": [
    "import pandas as pd\n",
    "import matplotlib.pyplot as plt\n",
    "import seaborn as sns\n",
    "from sklearn.ensemble import RandomForestClassifier\n",
    "from sklearn.metrics import classification_report, confusion_matrix\n",
    "\n",
    "# Inisialisasi dan pelatihan model RandomForest\n",
    "model = RandomForestClassifier(\n",
    "    n_estimators=100,\n",
    "    max_depth=None,\n",
    "    min_samples_split=2,\n",
    "    max_features=10\n",
    ")\n",
    "model.fit(X_train, y_train)\n",
    "\n",
    "# Prediksi dan evaluasi\n",
    "y_pred_randomforest = model.predict(X_test)\n",
    "score_randomforest = model.score(X_test, y_test)\n",
    "conf_matrix_randomforest = confusion_matrix(y_test, y_pred_randomforest)\n",
    "\n",
    "# Ganti label 0 dengan \"LGG\" dan 1 dengan \"GBM\"\n",
    "label_mapping = {0: \"LGG\", 1: \"GBM\"}\n",
    "y_test_mapped = pd.Series(y_test).map(label_mapping)\n",
    "y_pred_randomforest_mapped = pd.Series(y_pred_randomforest).map(label_mapping)\n",
    "\n",
    "# Plot confusion matrix\n",
    "plt.figure(figsize=(8, 6))\n",
    "sns.heatmap(conf_matrix_randomforest, annot=True, fmt='d', cmap='Blues', xticklabels=['LGG', 'GBM'], yticklabels=['LGG', 'GBM'])\n",
    "plt.xlabel('Predicted Labels')\n",
    "plt.ylabel('True Labels')\n",
    "plt.title('Confusion Matrix (Random Forest)')\n",
    "plt.show()\n",
    "\n",
    "# Classification report\n",
    "report_randomforest = classification_report(y_test, y_pred_randomforest, target_names=['LGG', 'GBM'], output_dict=True)\n",
    "classification_randomforest_df = pd.DataFrame(report_randomforest).transpose()\n",
    "print(\"\\nClassification Report:\")\n",
    "display(classification_randomforest_df)  # Menampilkan classification report dalam bentuk tabel\n",
    "\n",
    "# Akurasi model pada data testing\n",
    "print(\"\\nAkurasi model pada data testing:\")\n",
    "print(f\"{score_randomforest * 100:.2f}%\")\n",
    "\n",
    "# Menampilkan 10 sampel data klasifikasi dalam tabel\n",
    "print(\"\\n10 Sampel Data Klasifikasi:\")\n",
    "classification_randomforest_results = pd.DataFrame({\n",
    "    'True Label': y_test_mapped,\n",
    "    'Predicted Label': y_pred_randomforest_mapped\n",
    "})\n",
    "\n",
    "# Ambil 10 data secara acak dan tampilkan sebagai tabel\n",
    "sample_randomforest_results = classification_randomforest_results.sample(10)\n",
    "display(sample_randomforest_results)  # Menampilkan tabel hasil 10 sampel\n"
   ]
  },
  {
   "cell_type": "markdown",
   "metadata": {
    "id": "zHy8Z6eDQYgw"
   },
   "source": [
    "## Modelling KNN"
   ]
  },
  {
   "cell_type": "code",
   "execution_count": null,
   "metadata": {
    "colab": {
     "base_uri": "https://localhost:8080/",
     "height": 1000
    },
    "id": "7i09xHFhQblV",
    "outputId": "8428bce0-2775-4f96-f95a-591a2f104ba8"
   },
   "outputs": [],
   "source": [
    "import pandas as pd\n",
    "import matplotlib.pyplot as plt\n",
    "import seaborn as sns\n",
    "from sklearn.neighbors import KNeighborsClassifier\n",
    "from sklearn.metrics import accuracy_score, classification_report, confusion_matrix\n",
    "\n",
    "# Inisialisasi dan pelatihan model KNN\n",
    "model_knn = KNeighborsClassifier(n_neighbors=10)\n",
    "model_knn.fit(X_train, y_train)\n",
    "\n",
    "# Prediksi dan evaluasi\n",
    "y_pred_knn = model_knn.predict(X_test)\n",
    "score_knn = accuracy_score(y_test, y_pred_knn)\n",
    "conf_matrix_knn = confusion_matrix(y_test, y_pred_knn)\n",
    "\n",
    "# Ganti label 0 dengan \"LGG\" dan 1 dengan \"GBM\"\n",
    "label_mapping = {0: \"LGG\", 1: \"GBM\"}\n",
    "y_test_mapped = pd.Series(y_test).map(label_mapping)\n",
    "y_pred_knn_mapped = pd.Series(y_pred_knn).map(label_mapping)\n",
    "\n",
    "# Plot confusion matrix\n",
    "plt.figure(figsize=(8, 6))\n",
    "sns.heatmap(conf_matrix_knn, annot=True, fmt='d', cmap='Blues', xticklabels=['LGG', 'GBM'], yticklabels=['LGG', 'GBM'])\n",
    "plt.xlabel('Predicted Labels')\n",
    "plt.ylabel('True Labels')\n",
    "plt.title('Confusion Matrix (KNN)')\n",
    "plt.show()\n",
    "\n",
    "# Classification report\n",
    "report_knn = classification_report(y_test, y_pred_knn, target_names=['LGG', 'GBM'], output_dict=True)\n",
    "classification_knn_df = pd.DataFrame(report_knn).transpose()\n",
    "print(\"\\nClassification Report:\")\n",
    "display(classification_knn_df)  # Menampilkan classification report dalam bentuk tabel\n",
    "\n",
    "# Akurasi model pada data testing\n",
    "print(\"\\nAkurasi model pada data testing:\")\n",
    "print(f\"{score_knn * 100:.2f}%\")\n",
    "\n",
    "# Menampilkan 10 sampel data klasifikasi dalam tabel\n",
    "print(\"\\n10 Sampel Data Klasifikasi:\")\n",
    "classification_knn_results = pd.DataFrame({\n",
    "    'True Label': y_test_mapped,\n",
    "    'Predicted Label': y_pred_knn_mapped\n",
    "})\n",
    "\n",
    "# Ambil 10 data secara acak dan tampilkan sebagai tabel\n",
    "sample_knn_results = classification_knn_results.sample(10)\n",
    "display(sample_knn_results)  # Menampilkan tabel hasil 10 sampel\n"
   ]
  },
  {
   "cell_type": "markdown",
   "metadata": {
    "id": "6p1wWMfTbBnB"
   },
   "source": [
    "## Compare 3 Model"
   ]
  },
  {
   "cell_type": "code",
   "execution_count": null,
   "metadata": {
    "colab": {
     "base_uri": "https://localhost:8080/",
     "height": 144
    },
    "id": "maLwKYLpabTT",
    "outputId": "7df520cc-4cbb-470d-9ebf-1d36b0c9c806"
   },
   "outputs": [],
   "source": [
    "models = pd.DataFrame({\n",
    "    'Model' : [ 'Logistic Regression', 'Random Forest Classifier','KNN Classifier'],\n",
    "    'Score' : [train_accuracy50, score_randomforest, score_knn]\n",
    "})\n",
    "\n",
    "\n",
    "models.sort_values(by = 'Score', ascending = False)"
   ]
  },
  {
   "cell_type": "code",
   "execution_count": null,
   "metadata": {
    "id": "ZKgx4N_kPU-K"
   },
   "outputs": [],
   "source": [
    "import pickle"
   ]
  },
  {
   "cell_type": "code",
   "execution_count": null,
   "metadata": {
    "id": "0ZcSBUwRP3kU"
   },
   "outputs": [],
   "source": [
    "filename = 'model_klasifikasi_glioma.sav'\n",
    "pickle.dump(model, open(filename, 'wb'))"
   ]
  }
 ],
 "metadata": {
  "colab": {
   "provenance": []
  },
  "kernelspec": {
   "display_name": "Python 3",
   "name": "python3"
  },
  "language_info": {
   "codemirror_mode": {
    "name": "ipython",
    "version": 3
   },
   "file_extension": ".py",
   "mimetype": "text/x-python",
   "name": "python",
   "nbconvert_exporter": "python",
   "pygments_lexer": "ipython3",
   "version": "3.10.6"
  }
 },
 "nbformat": 4,
 "nbformat_minor": 0
}
